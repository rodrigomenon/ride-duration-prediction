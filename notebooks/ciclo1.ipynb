{
 "cells": [
  {
   "cell_type": "markdown",
   "metadata": {},
   "source": [
    "* limpeza de dados - OK\n",
    "* NA - eliminação de todos os Nas\n",
    "* Feature Engineer - Não foram criadas novas features\n",
    "* Data Preparation - Não foi realizada\n",
    "* Data Filtering - \n",
    "    * Linhas: Selecionamos apenas  1 > \"trip_duration\" < 84\n",
    "    * Colunas: "
   ]
  },
  {
   "cell_type": "markdown",
   "metadata": {},
   "source": [
    "# 1. Imports"
   ]
  },
  {
   "cell_type": "code",
   "execution_count": 2,
   "metadata": {},
   "outputs": [],
   "source": [
    "import pandas as pd\n",
    "import numpy as np\n",
    "import pickle\n",
    "\n",
    "import matplotlib.pyplot as plt\n",
    "import seaborn as sns\n",
    "\n",
    "from scipy.stats import chi2_contingency\n",
    "\n",
    "from sklearn.feature_extraction import DictVectorizer\n",
    "from sklearn.linear_model import LinearRegression, Ridge, Lasso\n",
    "from sklearn.metrics import mean_squared_error\n",
    "\n",
    "import warnings\n",
    "warnings.filterwarnings('ignore')"
   ]
  },
  {
   "cell_type": "markdown",
   "metadata": {},
   "source": [
    "## 1.1. Helper Functions"
   ]
  },
  {
   "cell_type": "code",
   "execution_count": 34,
   "metadata": {},
   "outputs": [],
   "source": [
    "def cramer_v(x, y):\n",
    "    cm = pd.crosstab(x, y).values\n",
    "    n = cm.sum()\n",
    "    r, k = cm.shape\n",
    "    \n",
    "    \n",
    "    chi2 = chi2_contingency(cm)[0]\n",
    "    chi2corr = max(0, chi2 - (k-1) * (r-1)/ (n-1))\n",
    "    \n",
    "    kcorr = k - (k-1)**2 / (n-1)\n",
    "    rcorr = r - (r-1)**2 / (n-1)\n",
    "    \n",
    "    return np.sqrt((chi2corr/n) / (min(kcorr-1, rcorr-1)))"
   ]
  },
  {
   "cell_type": "markdown",
   "metadata": {},
   "source": [
    "## 1.2. Load Data"
   ]
  },
  {
   "cell_type": "code",
   "execution_count": 84,
   "metadata": {},
   "outputs": [],
   "source": [
    "df_raw_01 = pd.read_parquet(\"../data/green_tripdata_2021-01.parquet\")\n",
    "df_raw_02 = pd.read_parquet(\"../data/green_tripdata_2021-02.parquet\")\n",
    "df_raw_03 = pd.read_parquet(\"../data/green_tripdata_2021-03.parquet\")\n",
    "df_raw_04 = pd.read_parquet(\"../data/green_tripdata_2021-04.parquet\")\n",
    "df_raw_05 = pd.read_parquet(\"../data/green_tripdata_2021-05.parquet\")\n",
    "df_raw_06 = pd.read_parquet(\"../data/green_tripdata_2021-06.parquet\")"
   ]
  },
  {
   "cell_type": "code",
   "execution_count": 85,
   "metadata": {},
   "outputs": [
    {
     "data": {
      "text/plain": [
       "486775"
      ]
     },
     "execution_count": 85,
     "metadata": {},
     "output_type": "execute_result"
    }
   ],
   "source": [
    "df_raw_01.shape[0] + df_raw_02.shape[0] + df_raw_03.shape[0] + df_raw_04.shape[0] + df_raw_05.shape[0] + df_raw_06.shape[0]"
   ]
  },
  {
   "cell_type": "code",
   "execution_count": 86,
   "metadata": {},
   "outputs": [],
   "source": [
    "# merge data\n",
    "aux1 = pd.concat([df_raw_01, df_raw_02], axis=0)\n",
    "aux2 = pd.concat([df_raw_03, df_raw_04], axis=0)\n",
    "aux3 = pd.concat([df_raw_05, df_raw_06], axis=0)\n",
    "\n",
    "\n",
    "aux_int = pd.concat([aux1, aux2], axis=0)\n",
    "df_raw = pd.concat([aux_int, aux3], axis=0)"
   ]
  },
  {
   "cell_type": "code",
   "execution_count": 87,
   "metadata": {},
   "outputs": [
    {
     "data": {
      "text/html": [
       "<div>\n",
       "<style scoped>\n",
       "    .dataframe tbody tr th:only-of-type {\n",
       "        vertical-align: middle;\n",
       "    }\n",
       "\n",
       "    .dataframe tbody tr th {\n",
       "        vertical-align: top;\n",
       "    }\n",
       "\n",
       "    .dataframe thead th {\n",
       "        text-align: right;\n",
       "    }\n",
       "</style>\n",
       "<table border=\"1\" class=\"dataframe\">\n",
       "  <thead>\n",
       "    <tr style=\"text-align: right;\">\n",
       "      <th></th>\n",
       "      <th>VendorID</th>\n",
       "      <th>lpep_pickup_datetime</th>\n",
       "      <th>lpep_dropoff_datetime</th>\n",
       "      <th>store_and_fwd_flag</th>\n",
       "      <th>RatecodeID</th>\n",
       "      <th>PULocationID</th>\n",
       "      <th>DOLocationID</th>\n",
       "      <th>passenger_count</th>\n",
       "      <th>trip_distance</th>\n",
       "      <th>fare_amount</th>\n",
       "      <th>extra</th>\n",
       "      <th>mta_tax</th>\n",
       "      <th>tip_amount</th>\n",
       "      <th>tolls_amount</th>\n",
       "      <th>ehail_fee</th>\n",
       "      <th>improvement_surcharge</th>\n",
       "      <th>total_amount</th>\n",
       "      <th>payment_type</th>\n",
       "      <th>trip_type</th>\n",
       "      <th>congestion_surcharge</th>\n",
       "    </tr>\n",
       "  </thead>\n",
       "  <tbody>\n",
       "    <tr>\n",
       "      <th>0</th>\n",
       "      <td>2</td>\n",
       "      <td>2021-01-01 00:15:56</td>\n",
       "      <td>2021-01-01 00:19:52</td>\n",
       "      <td>N</td>\n",
       "      <td>1.0</td>\n",
       "      <td>43</td>\n",
       "      <td>151</td>\n",
       "      <td>1.0</td>\n",
       "      <td>1.01</td>\n",
       "      <td>5.5</td>\n",
       "      <td>0.5</td>\n",
       "      <td>0.5</td>\n",
       "      <td>0.00</td>\n",
       "      <td>0.0</td>\n",
       "      <td>None</td>\n",
       "      <td>0.3</td>\n",
       "      <td>6.80</td>\n",
       "      <td>2.0</td>\n",
       "      <td>1.0</td>\n",
       "      <td>0.00</td>\n",
       "    </tr>\n",
       "    <tr>\n",
       "      <th>1</th>\n",
       "      <td>2</td>\n",
       "      <td>2021-01-01 00:25:59</td>\n",
       "      <td>2021-01-01 00:34:44</td>\n",
       "      <td>N</td>\n",
       "      <td>1.0</td>\n",
       "      <td>166</td>\n",
       "      <td>239</td>\n",
       "      <td>1.0</td>\n",
       "      <td>2.53</td>\n",
       "      <td>10.0</td>\n",
       "      <td>0.5</td>\n",
       "      <td>0.5</td>\n",
       "      <td>2.81</td>\n",
       "      <td>0.0</td>\n",
       "      <td>None</td>\n",
       "      <td>0.3</td>\n",
       "      <td>16.86</td>\n",
       "      <td>1.0</td>\n",
       "      <td>1.0</td>\n",
       "      <td>2.75</td>\n",
       "    </tr>\n",
       "    <tr>\n",
       "      <th>2</th>\n",
       "      <td>2</td>\n",
       "      <td>2021-01-01 00:45:57</td>\n",
       "      <td>2021-01-01 00:51:55</td>\n",
       "      <td>N</td>\n",
       "      <td>1.0</td>\n",
       "      <td>41</td>\n",
       "      <td>42</td>\n",
       "      <td>1.0</td>\n",
       "      <td>1.12</td>\n",
       "      <td>6.0</td>\n",
       "      <td>0.5</td>\n",
       "      <td>0.5</td>\n",
       "      <td>1.00</td>\n",
       "      <td>0.0</td>\n",
       "      <td>None</td>\n",
       "      <td>0.3</td>\n",
       "      <td>8.30</td>\n",
       "      <td>1.0</td>\n",
       "      <td>1.0</td>\n",
       "      <td>0.00</td>\n",
       "    </tr>\n",
       "    <tr>\n",
       "      <th>3</th>\n",
       "      <td>2</td>\n",
       "      <td>2020-12-31 23:57:51</td>\n",
       "      <td>2021-01-01 00:04:56</td>\n",
       "      <td>N</td>\n",
       "      <td>1.0</td>\n",
       "      <td>168</td>\n",
       "      <td>75</td>\n",
       "      <td>1.0</td>\n",
       "      <td>1.99</td>\n",
       "      <td>8.0</td>\n",
       "      <td>0.5</td>\n",
       "      <td>0.5</td>\n",
       "      <td>0.00</td>\n",
       "      <td>0.0</td>\n",
       "      <td>None</td>\n",
       "      <td>0.3</td>\n",
       "      <td>9.30</td>\n",
       "      <td>2.0</td>\n",
       "      <td>1.0</td>\n",
       "      <td>0.00</td>\n",
       "    </tr>\n",
       "    <tr>\n",
       "      <th>4</th>\n",
       "      <td>2</td>\n",
       "      <td>2021-01-01 00:16:36</td>\n",
       "      <td>2021-01-01 00:16:40</td>\n",
       "      <td>N</td>\n",
       "      <td>2.0</td>\n",
       "      <td>265</td>\n",
       "      <td>265</td>\n",
       "      <td>3.0</td>\n",
       "      <td>0.00</td>\n",
       "      <td>-52.0</td>\n",
       "      <td>0.0</td>\n",
       "      <td>-0.5</td>\n",
       "      <td>0.00</td>\n",
       "      <td>0.0</td>\n",
       "      <td>None</td>\n",
       "      <td>-0.3</td>\n",
       "      <td>-52.80</td>\n",
       "      <td>3.0</td>\n",
       "      <td>1.0</td>\n",
       "      <td>0.00</td>\n",
       "    </tr>\n",
       "  </tbody>\n",
       "</table>\n",
       "</div>"
      ],
      "text/plain": [
       "   VendorID lpep_pickup_datetime lpep_dropoff_datetime store_and_fwd_flag  \\\n",
       "0         2  2021-01-01 00:15:56   2021-01-01 00:19:52                  N   \n",
       "1         2  2021-01-01 00:25:59   2021-01-01 00:34:44                  N   \n",
       "2         2  2021-01-01 00:45:57   2021-01-01 00:51:55                  N   \n",
       "3         2  2020-12-31 23:57:51   2021-01-01 00:04:56                  N   \n",
       "4         2  2021-01-01 00:16:36   2021-01-01 00:16:40                  N   \n",
       "\n",
       "   RatecodeID  PULocationID  DOLocationID  passenger_count  trip_distance  \\\n",
       "0         1.0            43           151              1.0           1.01   \n",
       "1         1.0           166           239              1.0           2.53   \n",
       "2         1.0            41            42              1.0           1.12   \n",
       "3         1.0           168            75              1.0           1.99   \n",
       "4         2.0           265           265              3.0           0.00   \n",
       "\n",
       "   fare_amount  extra  mta_tax  tip_amount  tolls_amount ehail_fee  \\\n",
       "0          5.5    0.5      0.5        0.00           0.0      None   \n",
       "1         10.0    0.5      0.5        2.81           0.0      None   \n",
       "2          6.0    0.5      0.5        1.00           0.0      None   \n",
       "3          8.0    0.5      0.5        0.00           0.0      None   \n",
       "4        -52.0    0.0     -0.5        0.00           0.0      None   \n",
       "\n",
       "   improvement_surcharge  total_amount  payment_type  trip_type  \\\n",
       "0                    0.3          6.80           2.0        1.0   \n",
       "1                    0.3         16.86           1.0        1.0   \n",
       "2                    0.3          8.30           1.0        1.0   \n",
       "3                    0.3          9.30           2.0        1.0   \n",
       "4                   -0.3        -52.80           3.0        1.0   \n",
       "\n",
       "   congestion_surcharge  \n",
       "0                  0.00  \n",
       "1                  2.75  \n",
       "2                  0.00  \n",
       "3                  0.00  \n",
       "4                  0.00  "
      ]
     },
     "execution_count": 87,
     "metadata": {},
     "output_type": "execute_result"
    }
   ],
   "source": [
    "df_raw.head()"
   ]
  },
  {
   "cell_type": "code",
   "execution_count": 88,
   "metadata": {},
   "outputs": [
    {
     "data": {
      "text/plain": [
       "(486775, 20)"
      ]
     },
     "execution_count": 88,
     "metadata": {},
     "output_type": "execute_result"
    }
   ],
   "source": [
    "df_raw.shape"
   ]
  },
  {
   "cell_type": "code",
   "execution_count": 89,
   "metadata": {},
   "outputs": [],
   "source": [
    "pickle.dump(df_raw, open(\"../data/processed/df_raw.pkl\", \"wb\"))"
   ]
  },
  {
   "cell_type": "markdown",
   "metadata": {},
   "source": [
    "# 2. Descriptive Analysis"
   ]
  },
  {
   "cell_type": "code",
   "execution_count": 90,
   "metadata": {},
   "outputs": [],
   "source": [
    "df1 = pickle.load(open(\"../data/processed/df_raw.pkl\", \"rb\"))"
   ]
  },
  {
   "cell_type": "markdown",
   "metadata": {},
   "source": [
    "## 2.1. Data Dictionary"
   ]
  },
  {
   "cell_type": "markdown",
   "metadata": {},
   "source": [
    "- **VendorID:** A code indicating the LPEP provider that provided the record (1= Creative Mobile Technologies, LLC; 2= VeriFone Inc.)\n",
    "- **lpep_pickup_datetime:** The date and time when the meter was engaged.\n",
    "- **lpep_dropoff_datetime** The date and time when the meter was disengaged.\n",
    "- **Store_and_fwd_flag** This flag indicates whether the trip record was held in vehicle memory before sending to the vendor, aka “store and forward,” because the vehicle did not have a connection to the server. (Y= store and forward trip; N= not a store and forward trip)\n",
    "- **RateCodeID:** The final rate code in effect at the end of the trip.(1= Standard rate; 2=JFK; 3=Newark; 4=Nassau or Westchester; 5=Negotiated fare; 6=Group ride)\n",
    "- **PULocationID:** TLC Taxi Zone in which the taximeter was engaged\n",
    "- **DOLocationID** TLC Taxi Zone in which the taximeter was disengaged\n",
    "- **Passenger_count:** The number of passengers in the vehicle. This is a driver-entered value.\n",
    "- **Trip_distance:** The elapsed trip distance in miles reported by the taximeter.\n",
    "- **Fare_amount:** The time-and-distance fare calculated by the meter.\n",
    "- **Extra:** Miscellaneous extras and surcharges. Currently, this only includesthe 0.50 and $1 rush hour and overnight charges.\n",
    "- **MTA_tax:** $0.50 MTA tax that is automatically triggered based on the metered rate in use.\n",
    "- **Tip_amount:** This field is automatically populated for credit card tips. Cash tips are not included.\n",
    "- **Tolls_amount:** Total amount of all tolls paid in trip.\n",
    "- **Improvement_surcharge:** $0.30 improvement surcharge assessed on hailed trips at the flag drop. The improvement surcharge began being levied in 2015.\n",
    "- **Total_amount** The total amount charged to passengers. Does not include cash tips.\n",
    "- **Payment_type:** A numeric code signifying how the passenger paid for the trip. (1= Credit card; 2= Cash; 3= No charge; 4= Dispute; 5= Unknown; 6= Voided trip)\n",
    "- **Trip_type:** A code indicating whether the trip was a street-hail or a dispatch that is automatically assigned based on the metered rate in use but can be altered by the driver. (1= Street-hail; 2= Dispatch)"
   ]
  },
  {
   "cell_type": "markdown",
   "metadata": {},
   "source": [
    "## 2.2. Data Cleaning"
   ]
  },
  {
   "cell_type": "code",
   "execution_count": 91,
   "metadata": {},
   "outputs": [],
   "source": [
    "# lowercase columns names\n",
    "df1.columns = df1.columns.str.lower()\n",
    "\n",
    "# make columns names more understandable\n",
    "df1.rename(columns={'vendorid': 'vendor_id',\n",
    "                    'ratecodeid': 'ratecode_id',\n",
    "                    'pulocationid': 'pick_up_location_id',\n",
    "                    'dolocationid': 'drop_off_location_id'}, inplace=True)"
   ]
  },
  {
   "cell_type": "code",
   "execution_count": 9,
   "metadata": {},
   "outputs": [],
   "source": [
    "## change features values to make eda step more understandable\n",
    "#\n",
    "## vendor_id\n",
    "#df1['vendor_id'] = df1['vendor_id'].apply(lambda x: \"Creative Mobile Technologies\" if x == 1 else \"VeriFone Inc.\")\n",
    "#\n",
    "## ratecode_id\n",
    "#df1['ratecode_id'] = df1['ratecode_id'].apply(lambda x: \"Standard rate\" if x == 1\n",
    "#                                            else \"JFK\" if x == 2\n",
    "#                                            else \"Newark\" if x == 3\n",
    "#                                            else \"Nassau or Westchester\" if x == 4\n",
    "#                                            else \"Negotiated fare\" if x == 5\n",
    "#                                            else \"Group ride\" if x == 6\n",
    "#                                            else str(x))\n",
    "#\n",
    "## store_and_fwd_flag\n",
    "#df1['store_and_fwd_flag'] = df1['store_and_fwd_flag'].apply(lambda x: \"no\" if x == \"N\" else \"yes\")\n",
    "#\n",
    "## payment_type 1= Credit card; 2= Cash; 3= No charge; 4= Dispute; 5= Unknown; 6= Voided trip\n",
    "#df1['payment_type'] = df1['payment_type'].apply(lambda x: \"Credit card\" if x == 1 \n",
    "#                                                else \"Cash\" if x == 2\n",
    "#                                                else \"No charge\" if x == 3\n",
    "#                                                else \"Dispute\" if x == 4\n",
    "#                                                else \"Unknown\" if x == 5\n",
    "#                                                else \"Voided trip\" if x == 6\n",
    "#                                                else x)\n",
    "#\n",
    "## trip_type\n",
    "#df1['trip_type'] = df1['trip_type'].apply(lambda x: \"Street-hail\" if x == 1 else \"Dispatch\")\n"
   ]
  },
  {
   "cell_type": "code",
   "execution_count": 92,
   "metadata": {},
   "outputs": [],
   "source": [
    "# create the target variable\n",
    "df1['trip_duration'] = df1['lpep_dropoff_datetime'] - df1['lpep_pickup_datetime']\n",
    "df1['trip_duration'] = df1['trip_duration'].dt.total_seconds() / 60"
   ]
  },
  {
   "cell_type": "code",
   "execution_count": 93,
   "metadata": {},
   "outputs": [
    {
     "data": {
      "text/html": [
       "<div>\n",
       "<style scoped>\n",
       "    .dataframe tbody tr th:only-of-type {\n",
       "        vertical-align: middle;\n",
       "    }\n",
       "\n",
       "    .dataframe tbody tr th {\n",
       "        vertical-align: top;\n",
       "    }\n",
       "\n",
       "    .dataframe thead th {\n",
       "        text-align: right;\n",
       "    }\n",
       "</style>\n",
       "<table border=\"1\" class=\"dataframe\">\n",
       "  <thead>\n",
       "    <tr style=\"text-align: right;\">\n",
       "      <th></th>\n",
       "      <th>vendor_id</th>\n",
       "      <th>lpep_pickup_datetime</th>\n",
       "      <th>lpep_dropoff_datetime</th>\n",
       "      <th>store_and_fwd_flag</th>\n",
       "      <th>ratecode_id</th>\n",
       "      <th>pick_up_location_id</th>\n",
       "      <th>drop_off_location_id</th>\n",
       "      <th>passenger_count</th>\n",
       "      <th>trip_distance</th>\n",
       "      <th>fare_amount</th>\n",
       "      <th>...</th>\n",
       "      <th>mta_tax</th>\n",
       "      <th>tip_amount</th>\n",
       "      <th>tolls_amount</th>\n",
       "      <th>ehail_fee</th>\n",
       "      <th>improvement_surcharge</th>\n",
       "      <th>total_amount</th>\n",
       "      <th>payment_type</th>\n",
       "      <th>trip_type</th>\n",
       "      <th>congestion_surcharge</th>\n",
       "      <th>trip_duration</th>\n",
       "    </tr>\n",
       "  </thead>\n",
       "  <tbody>\n",
       "    <tr>\n",
       "      <th>0</th>\n",
       "      <td>2</td>\n",
       "      <td>2021-01-01 00:15:56</td>\n",
       "      <td>2021-01-01 00:19:52</td>\n",
       "      <td>N</td>\n",
       "      <td>1.0</td>\n",
       "      <td>43</td>\n",
       "      <td>151</td>\n",
       "      <td>1.0</td>\n",
       "      <td>1.01</td>\n",
       "      <td>5.5</td>\n",
       "      <td>...</td>\n",
       "      <td>0.5</td>\n",
       "      <td>0.00</td>\n",
       "      <td>0.0</td>\n",
       "      <td>None</td>\n",
       "      <td>0.3</td>\n",
       "      <td>6.80</td>\n",
       "      <td>2.0</td>\n",
       "      <td>1.0</td>\n",
       "      <td>0.00</td>\n",
       "      <td>3.933333</td>\n",
       "    </tr>\n",
       "    <tr>\n",
       "      <th>1</th>\n",
       "      <td>2</td>\n",
       "      <td>2021-01-01 00:25:59</td>\n",
       "      <td>2021-01-01 00:34:44</td>\n",
       "      <td>N</td>\n",
       "      <td>1.0</td>\n",
       "      <td>166</td>\n",
       "      <td>239</td>\n",
       "      <td>1.0</td>\n",
       "      <td>2.53</td>\n",
       "      <td>10.0</td>\n",
       "      <td>...</td>\n",
       "      <td>0.5</td>\n",
       "      <td>2.81</td>\n",
       "      <td>0.0</td>\n",
       "      <td>None</td>\n",
       "      <td>0.3</td>\n",
       "      <td>16.86</td>\n",
       "      <td>1.0</td>\n",
       "      <td>1.0</td>\n",
       "      <td>2.75</td>\n",
       "      <td>8.750000</td>\n",
       "    </tr>\n",
       "    <tr>\n",
       "      <th>2</th>\n",
       "      <td>2</td>\n",
       "      <td>2021-01-01 00:45:57</td>\n",
       "      <td>2021-01-01 00:51:55</td>\n",
       "      <td>N</td>\n",
       "      <td>1.0</td>\n",
       "      <td>41</td>\n",
       "      <td>42</td>\n",
       "      <td>1.0</td>\n",
       "      <td>1.12</td>\n",
       "      <td>6.0</td>\n",
       "      <td>...</td>\n",
       "      <td>0.5</td>\n",
       "      <td>1.00</td>\n",
       "      <td>0.0</td>\n",
       "      <td>None</td>\n",
       "      <td>0.3</td>\n",
       "      <td>8.30</td>\n",
       "      <td>1.0</td>\n",
       "      <td>1.0</td>\n",
       "      <td>0.00</td>\n",
       "      <td>5.966667</td>\n",
       "    </tr>\n",
       "    <tr>\n",
       "      <th>3</th>\n",
       "      <td>2</td>\n",
       "      <td>2020-12-31 23:57:51</td>\n",
       "      <td>2021-01-01 00:04:56</td>\n",
       "      <td>N</td>\n",
       "      <td>1.0</td>\n",
       "      <td>168</td>\n",
       "      <td>75</td>\n",
       "      <td>1.0</td>\n",
       "      <td>1.99</td>\n",
       "      <td>8.0</td>\n",
       "      <td>...</td>\n",
       "      <td>0.5</td>\n",
       "      <td>0.00</td>\n",
       "      <td>0.0</td>\n",
       "      <td>None</td>\n",
       "      <td>0.3</td>\n",
       "      <td>9.30</td>\n",
       "      <td>2.0</td>\n",
       "      <td>1.0</td>\n",
       "      <td>0.00</td>\n",
       "      <td>7.083333</td>\n",
       "    </tr>\n",
       "    <tr>\n",
       "      <th>4</th>\n",
       "      <td>2</td>\n",
       "      <td>2021-01-01 00:16:36</td>\n",
       "      <td>2021-01-01 00:16:40</td>\n",
       "      <td>N</td>\n",
       "      <td>2.0</td>\n",
       "      <td>265</td>\n",
       "      <td>265</td>\n",
       "      <td>3.0</td>\n",
       "      <td>0.00</td>\n",
       "      <td>-52.0</td>\n",
       "      <td>...</td>\n",
       "      <td>-0.5</td>\n",
       "      <td>0.00</td>\n",
       "      <td>0.0</td>\n",
       "      <td>None</td>\n",
       "      <td>-0.3</td>\n",
       "      <td>-52.80</td>\n",
       "      <td>3.0</td>\n",
       "      <td>1.0</td>\n",
       "      <td>0.00</td>\n",
       "      <td>0.066667</td>\n",
       "    </tr>\n",
       "  </tbody>\n",
       "</table>\n",
       "<p>5 rows × 21 columns</p>\n",
       "</div>"
      ],
      "text/plain": [
       "   vendor_id lpep_pickup_datetime lpep_dropoff_datetime store_and_fwd_flag  \\\n",
       "0          2  2021-01-01 00:15:56   2021-01-01 00:19:52                  N   \n",
       "1          2  2021-01-01 00:25:59   2021-01-01 00:34:44                  N   \n",
       "2          2  2021-01-01 00:45:57   2021-01-01 00:51:55                  N   \n",
       "3          2  2020-12-31 23:57:51   2021-01-01 00:04:56                  N   \n",
       "4          2  2021-01-01 00:16:36   2021-01-01 00:16:40                  N   \n",
       "\n",
       "   ratecode_id  pick_up_location_id  drop_off_location_id  passenger_count  \\\n",
       "0          1.0                   43                   151              1.0   \n",
       "1          1.0                  166                   239              1.0   \n",
       "2          1.0                   41                    42              1.0   \n",
       "3          1.0                  168                    75              1.0   \n",
       "4          2.0                  265                   265              3.0   \n",
       "\n",
       "   trip_distance  fare_amount  ...  mta_tax  tip_amount  tolls_amount  \\\n",
       "0           1.01          5.5  ...      0.5        0.00           0.0   \n",
       "1           2.53         10.0  ...      0.5        2.81           0.0   \n",
       "2           1.12          6.0  ...      0.5        1.00           0.0   \n",
       "3           1.99          8.0  ...      0.5        0.00           0.0   \n",
       "4           0.00        -52.0  ...     -0.5        0.00           0.0   \n",
       "\n",
       "   ehail_fee improvement_surcharge  total_amount  payment_type  trip_type  \\\n",
       "0       None                   0.3          6.80           2.0        1.0   \n",
       "1       None                   0.3         16.86           1.0        1.0   \n",
       "2       None                   0.3          8.30           1.0        1.0   \n",
       "3       None                   0.3          9.30           2.0        1.0   \n",
       "4       None                  -0.3        -52.80           3.0        1.0   \n",
       "\n",
       "   congestion_surcharge  trip_duration  \n",
       "0                  0.00       3.933333  \n",
       "1                  2.75       8.750000  \n",
       "2                  0.00       5.966667  \n",
       "3                  0.00       7.083333  \n",
       "4                  0.00       0.066667  \n",
       "\n",
       "[5 rows x 21 columns]"
      ]
     },
     "execution_count": 93,
     "metadata": {},
     "output_type": "execute_result"
    }
   ],
   "source": [
    "df1.head()"
   ]
  },
  {
   "cell_type": "markdown",
   "metadata": {},
   "source": [
    "## 2.3. Data Dimensions"
   ]
  },
  {
   "cell_type": "code",
   "execution_count": 94,
   "metadata": {},
   "outputs": [
    {
     "data": {
      "text/plain": [
       "(486775, 21)"
      ]
     },
     "execution_count": 94,
     "metadata": {},
     "output_type": "execute_result"
    }
   ],
   "source": [
    "df1.shape"
   ]
  },
  {
   "cell_type": "markdown",
   "metadata": {},
   "source": [
    "## 2.4. Data Types"
   ]
  },
  {
   "cell_type": "code",
   "execution_count": 95,
   "metadata": {},
   "outputs": [
    {
     "data": {
      "text/plain": [
       "vendor_id                         int64\n",
       "lpep_pickup_datetime     datetime64[ns]\n",
       "lpep_dropoff_datetime    datetime64[ns]\n",
       "store_and_fwd_flag               object\n",
       "ratecode_id                     float64\n",
       "pick_up_location_id               int64\n",
       "drop_off_location_id              int64\n",
       "passenger_count                 float64\n",
       "trip_distance                   float64\n",
       "fare_amount                     float64\n",
       "extra                           float64\n",
       "mta_tax                         float64\n",
       "tip_amount                      float64\n",
       "tolls_amount                    float64\n",
       "ehail_fee                        object\n",
       "improvement_surcharge           float64\n",
       "total_amount                    float64\n",
       "payment_type                    float64\n",
       "trip_type                       float64\n",
       "congestion_surcharge            float64\n",
       "trip_duration                   float64\n",
       "dtype: object"
      ]
     },
     "execution_count": 95,
     "metadata": {},
     "output_type": "execute_result"
    }
   ],
   "source": [
    "df1.dtypes"
   ]
  },
  {
   "cell_type": "code",
   "execution_count": 96,
   "metadata": {},
   "outputs": [],
   "source": [
    "# change data types\n",
    "df1['pick_up_location_id'] = df1['pick_up_location_id'].astype(str)\n",
    "df1['drop_off_location_id'] = df1['drop_off_location_id'].astype(str)\n",
    "df1['ratecode_id'] = df1['ratecode_id'].astype(str)"
   ]
  },
  {
   "cell_type": "markdown",
   "metadata": {},
   "source": [
    "## 2.5. Check NA"
   ]
  },
  {
   "cell_type": "code",
   "execution_count": 97,
   "metadata": {},
   "outputs": [
    {
     "data": {
      "text/plain": [
       "ehail_fee                1.000000\n",
       "congestion_surcharge     0.444963\n",
       "store_and_fwd_flag       0.444963\n",
       "trip_type                0.444963\n",
       "payment_type             0.444963\n",
       "passenger_count          0.444963\n",
       "vendor_id                0.000000\n",
       "tip_amount               0.000000\n",
       "total_amount             0.000000\n",
       "improvement_surcharge    0.000000\n",
       "tolls_amount             0.000000\n",
       "extra                    0.000000\n",
       "mta_tax                  0.000000\n",
       "lpep_pickup_datetime     0.000000\n",
       "fare_amount              0.000000\n",
       "trip_distance            0.000000\n",
       "drop_off_location_id     0.000000\n",
       "pick_up_location_id      0.000000\n",
       "ratecode_id              0.000000\n",
       "lpep_dropoff_datetime    0.000000\n",
       "trip_duration            0.000000\n",
       "dtype: float64"
      ]
     },
     "execution_count": 97,
     "metadata": {},
     "output_type": "execute_result"
    }
   ],
   "source": [
    "df1.isna().sum().sort_values(ascending=False) / df1.shape[0]"
   ]
  },
  {
   "cell_type": "code",
   "execution_count": 98,
   "metadata": {},
   "outputs": [],
   "source": [
    "## Remove the missing values\n",
    "df1 = df1.drop('ehail_fee', axis=1)\n",
    "#df1 = df1.dropna()\n",
    "#\n",
    "## since we won't have these features on the prediction moment we will drop them"
   ]
  },
  {
   "cell_type": "code",
   "execution_count": 99,
   "metadata": {},
   "outputs": [
    {
     "data": {
      "text/plain": [
       "(486775, 20)"
      ]
     },
     "execution_count": 99,
     "metadata": {},
     "output_type": "execute_result"
    }
   ],
   "source": [
    "df1.shape"
   ]
  },
  {
   "cell_type": "markdown",
   "metadata": {},
   "source": [
    "## 2.6. Descriptive Statistics"
   ]
  },
  {
   "cell_type": "code",
   "execution_count": 100,
   "metadata": {},
   "outputs": [],
   "source": [
    "num_data = df1.select_dtypes(include=['int64', 'float64'])\n",
    "cat_data = df1.select_dtypes(exclude=['int64', 'float64', 'datetime64[ns]'])"
   ]
  },
  {
   "cell_type": "markdown",
   "metadata": {},
   "source": [
    "### 2.6.1. Numerical Statistics"
   ]
  },
  {
   "cell_type": "code",
   "execution_count": 101,
   "metadata": {},
   "outputs": [
    {
     "data": {
      "text/html": [
       "<div>\n",
       "<style scoped>\n",
       "    .dataframe tbody tr th:only-of-type {\n",
       "        vertical-align: middle;\n",
       "    }\n",
       "\n",
       "    .dataframe tbody tr th {\n",
       "        vertical-align: top;\n",
       "    }\n",
       "\n",
       "    .dataframe thead th {\n",
       "        text-align: right;\n",
       "    }\n",
       "</style>\n",
       "<table border=\"1\" class=\"dataframe\">\n",
       "  <thead>\n",
       "    <tr style=\"text-align: right;\">\n",
       "      <th></th>\n",
       "      <th>vendor_id</th>\n",
       "      <th>passenger_count</th>\n",
       "      <th>trip_distance</th>\n",
       "      <th>fare_amount</th>\n",
       "      <th>extra</th>\n",
       "      <th>mta_tax</th>\n",
       "      <th>tip_amount</th>\n",
       "      <th>tolls_amount</th>\n",
       "      <th>improvement_surcharge</th>\n",
       "      <th>total_amount</th>\n",
       "      <th>payment_type</th>\n",
       "      <th>trip_type</th>\n",
       "      <th>congestion_surcharge</th>\n",
       "      <th>trip_duration</th>\n",
       "    </tr>\n",
       "  </thead>\n",
       "  <tbody>\n",
       "    <tr>\n",
       "      <th>0</th>\n",
       "      <td>2</td>\n",
       "      <td>1.0</td>\n",
       "      <td>1.01</td>\n",
       "      <td>5.5</td>\n",
       "      <td>0.5</td>\n",
       "      <td>0.5</td>\n",
       "      <td>0.00</td>\n",
       "      <td>0.0</td>\n",
       "      <td>0.3</td>\n",
       "      <td>6.80</td>\n",
       "      <td>2.0</td>\n",
       "      <td>1.0</td>\n",
       "      <td>0.00</td>\n",
       "      <td>3.933333</td>\n",
       "    </tr>\n",
       "    <tr>\n",
       "      <th>1</th>\n",
       "      <td>2</td>\n",
       "      <td>1.0</td>\n",
       "      <td>2.53</td>\n",
       "      <td>10.0</td>\n",
       "      <td>0.5</td>\n",
       "      <td>0.5</td>\n",
       "      <td>2.81</td>\n",
       "      <td>0.0</td>\n",
       "      <td>0.3</td>\n",
       "      <td>16.86</td>\n",
       "      <td>1.0</td>\n",
       "      <td>1.0</td>\n",
       "      <td>2.75</td>\n",
       "      <td>8.750000</td>\n",
       "    </tr>\n",
       "    <tr>\n",
       "      <th>2</th>\n",
       "      <td>2</td>\n",
       "      <td>1.0</td>\n",
       "      <td>1.12</td>\n",
       "      <td>6.0</td>\n",
       "      <td>0.5</td>\n",
       "      <td>0.5</td>\n",
       "      <td>1.00</td>\n",
       "      <td>0.0</td>\n",
       "      <td>0.3</td>\n",
       "      <td>8.30</td>\n",
       "      <td>1.0</td>\n",
       "      <td>1.0</td>\n",
       "      <td>0.00</td>\n",
       "      <td>5.966667</td>\n",
       "    </tr>\n",
       "    <tr>\n",
       "      <th>3</th>\n",
       "      <td>2</td>\n",
       "      <td>1.0</td>\n",
       "      <td>1.99</td>\n",
       "      <td>8.0</td>\n",
       "      <td>0.5</td>\n",
       "      <td>0.5</td>\n",
       "      <td>0.00</td>\n",
       "      <td>0.0</td>\n",
       "      <td>0.3</td>\n",
       "      <td>9.30</td>\n",
       "      <td>2.0</td>\n",
       "      <td>1.0</td>\n",
       "      <td>0.00</td>\n",
       "      <td>7.083333</td>\n",
       "    </tr>\n",
       "    <tr>\n",
       "      <th>4</th>\n",
       "      <td>2</td>\n",
       "      <td>3.0</td>\n",
       "      <td>0.00</td>\n",
       "      <td>-52.0</td>\n",
       "      <td>0.0</td>\n",
       "      <td>-0.5</td>\n",
       "      <td>0.00</td>\n",
       "      <td>0.0</td>\n",
       "      <td>-0.3</td>\n",
       "      <td>-52.80</td>\n",
       "      <td>3.0</td>\n",
       "      <td>1.0</td>\n",
       "      <td>0.00</td>\n",
       "      <td>0.066667</td>\n",
       "    </tr>\n",
       "  </tbody>\n",
       "</table>\n",
       "</div>"
      ],
      "text/plain": [
       "   vendor_id  passenger_count  trip_distance  fare_amount  extra  mta_tax  \\\n",
       "0          2              1.0           1.01          5.5    0.5      0.5   \n",
       "1          2              1.0           2.53         10.0    0.5      0.5   \n",
       "2          2              1.0           1.12          6.0    0.5      0.5   \n",
       "3          2              1.0           1.99          8.0    0.5      0.5   \n",
       "4          2              3.0           0.00        -52.0    0.0     -0.5   \n",
       "\n",
       "   tip_amount  tolls_amount  improvement_surcharge  total_amount  \\\n",
       "0        0.00           0.0                    0.3          6.80   \n",
       "1        2.81           0.0                    0.3         16.86   \n",
       "2        1.00           0.0                    0.3          8.30   \n",
       "3        0.00           0.0                    0.3          9.30   \n",
       "4        0.00           0.0                   -0.3        -52.80   \n",
       "\n",
       "   payment_type  trip_type  congestion_surcharge  trip_duration  \n",
       "0           2.0        1.0                  0.00       3.933333  \n",
       "1           1.0        1.0                  2.75       8.750000  \n",
       "2           1.0        1.0                  0.00       5.966667  \n",
       "3           2.0        1.0                  0.00       7.083333  \n",
       "4           3.0        1.0                  0.00       0.066667  "
      ]
     },
     "execution_count": 101,
     "metadata": {},
     "output_type": "execute_result"
    }
   ],
   "source": [
    "num_data.head()"
   ]
  },
  {
   "cell_type": "code",
   "execution_count": 102,
   "metadata": {},
   "outputs": [
    {
     "data": {
      "text/html": [
       "<div>\n",
       "<style scoped>\n",
       "    .dataframe tbody tr th:only-of-type {\n",
       "        vertical-align: middle;\n",
       "    }\n",
       "\n",
       "    .dataframe tbody tr th {\n",
       "        vertical-align: top;\n",
       "    }\n",
       "\n",
       "    .dataframe thead th {\n",
       "        text-align: right;\n",
       "    }\n",
       "</style>\n",
       "<table border=\"1\" class=\"dataframe\">\n",
       "  <thead>\n",
       "    <tr style=\"text-align: right;\">\n",
       "      <th></th>\n",
       "      <th>features</th>\n",
       "      <th>count</th>\n",
       "      <th>mean</th>\n",
       "      <th>std</th>\n",
       "      <th>min</th>\n",
       "      <th>50%</th>\n",
       "      <th>90%</th>\n",
       "      <th>95%</th>\n",
       "      <th>99%</th>\n",
       "      <th>max</th>\n",
       "      <th>range</th>\n",
       "      <th>skew</th>\n",
       "      <th>kurtosis</th>\n",
       "    </tr>\n",
       "  </thead>\n",
       "  <tbody>\n",
       "    <tr>\n",
       "      <th>0</th>\n",
       "      <td>vendor_id</td>\n",
       "      <td>486775.0</td>\n",
       "      <td>1.894976</td>\n",
       "      <td>0.306585</td>\n",
       "      <td>1.00</td>\n",
       "      <td>2.00</td>\n",
       "      <td>2.00</td>\n",
       "      <td>2.00</td>\n",
       "      <td>2.000000</td>\n",
       "      <td>2.00</td>\n",
       "      <td>1.00</td>\n",
       "      <td>-2.576632</td>\n",
       "      <td>4.639052</td>\n",
       "    </tr>\n",
       "    <tr>\n",
       "      <th>1</th>\n",
       "      <td>passenger_count</td>\n",
       "      <td>270178.0</td>\n",
       "      <td>1.242370</td>\n",
       "      <td>0.873598</td>\n",
       "      <td>0.00</td>\n",
       "      <td>1.00</td>\n",
       "      <td>2.00</td>\n",
       "      <td>2.00</td>\n",
       "      <td>6.000000</td>\n",
       "      <td>48.00</td>\n",
       "      <td>48.00</td>\n",
       "      <td>4.776962</td>\n",
       "      <td>48.412824</td>\n",
       "    </tr>\n",
       "    <tr>\n",
       "      <th>2</th>\n",
       "      <td>trip_distance</td>\n",
       "      <td>486775.0</td>\n",
       "      <td>84.588752</td>\n",
       "      <td>2989.314970</td>\n",
       "      <td>0.00</td>\n",
       "      <td>2.62</td>\n",
       "      <td>11.33</td>\n",
       "      <td>15.84</td>\n",
       "      <td>24.150000</td>\n",
       "      <td>314199.07</td>\n",
       "      <td>314199.07</td>\n",
       "      <td>52.645345</td>\n",
       "      <td>3471.074815</td>\n",
       "    </tr>\n",
       "    <tr>\n",
       "      <th>3</th>\n",
       "      <td>fare_amount</td>\n",
       "      <td>486775.0</td>\n",
       "      <td>20.061589</td>\n",
       "      <td>15.150890</td>\n",
       "      <td>-300.00</td>\n",
       "      <td>16.83</td>\n",
       "      <td>39.18</td>\n",
       "      <td>49.35</td>\n",
       "      <td>71.000000</td>\n",
       "      <td>2109.00</td>\n",
       "      <td>2409.00</td>\n",
       "      <td>8.274816</td>\n",
       "      <td>808.279319</td>\n",
       "    </tr>\n",
       "    <tr>\n",
       "      <th>4</th>\n",
       "      <td>extra</td>\n",
       "      <td>486775.0</td>\n",
       "      <td>1.231439</td>\n",
       "      <td>1.378140</td>\n",
       "      <td>-5.50</td>\n",
       "      <td>0.50</td>\n",
       "      <td>2.75</td>\n",
       "      <td>2.75</td>\n",
       "      <td>5.500000</td>\n",
       "      <td>8.25</td>\n",
       "      <td>13.75</td>\n",
       "      <td>0.728995</td>\n",
       "      <td>-0.354708</td>\n",
       "    </tr>\n",
       "    <tr>\n",
       "      <th>5</th>\n",
       "      <td>mta_tax</td>\n",
       "      <td>486775.0</td>\n",
       "      <td>0.267237</td>\n",
       "      <td>0.251112</td>\n",
       "      <td>-0.50</td>\n",
       "      <td>0.50</td>\n",
       "      <td>0.50</td>\n",
       "      <td>0.50</td>\n",
       "      <td>0.500000</td>\n",
       "      <td>3.55</td>\n",
       "      <td>4.05</td>\n",
       "      <td>-0.155918</td>\n",
       "      <td>-1.637715</td>\n",
       "    </tr>\n",
       "    <tr>\n",
       "      <th>6</th>\n",
       "      <td>tip_amount</td>\n",
       "      <td>486775.0</td>\n",
       "      <td>1.002696</td>\n",
       "      <td>2.127091</td>\n",
       "      <td>-9.45</td>\n",
       "      <td>0.00</td>\n",
       "      <td>3.01</td>\n",
       "      <td>4.61</td>\n",
       "      <td>10.000000</td>\n",
       "      <td>333.00</td>\n",
       "      <td>342.45</td>\n",
       "      <td>14.232544</td>\n",
       "      <td>1381.615489</td>\n",
       "    </tr>\n",
       "    <tr>\n",
       "      <th>7</th>\n",
       "      <td>tolls_amount</td>\n",
       "      <td>486775.0</td>\n",
       "      <td>0.548409</td>\n",
       "      <td>1.863995</td>\n",
       "      <td>0.00</td>\n",
       "      <td>0.00</td>\n",
       "      <td>0.00</td>\n",
       "      <td>6.12</td>\n",
       "      <td>6.550000</td>\n",
       "      <td>43.50</td>\n",
       "      <td>43.50</td>\n",
       "      <td>3.717317</td>\n",
       "      <td>17.632624</td>\n",
       "    </tr>\n",
       "    <tr>\n",
       "      <th>8</th>\n",
       "      <td>improvement_surcharge</td>\n",
       "      <td>486775.0</td>\n",
       "      <td>0.298015</td>\n",
       "      <td>0.029783</td>\n",
       "      <td>-0.30</td>\n",
       "      <td>0.30</td>\n",
       "      <td>0.30</td>\n",
       "      <td>0.30</td>\n",
       "      <td>0.300000</td>\n",
       "      <td>0.30</td>\n",
       "      <td>0.60</td>\n",
       "      <td>-16.627310</td>\n",
       "      <td>297.219337</td>\n",
       "    </tr>\n",
       "    <tr>\n",
       "      <th>9</th>\n",
       "      <td>total_amount</td>\n",
       "      <td>486775.0</td>\n",
       "      <td>23.726951</td>\n",
       "      <td>16.488399</td>\n",
       "      <td>-300.80</td>\n",
       "      <td>20.74</td>\n",
       "      <td>44.85</td>\n",
       "      <td>55.73</td>\n",
       "      <td>78.392600</td>\n",
       "      <td>2113.55</td>\n",
       "      <td>2414.35</td>\n",
       "      <td>6.787277</td>\n",
       "      <td>579.523998</td>\n",
       "    </tr>\n",
       "    <tr>\n",
       "      <th>10</th>\n",
       "      <td>payment_type</td>\n",
       "      <td>270178.0</td>\n",
       "      <td>1.408390</td>\n",
       "      <td>0.515450</td>\n",
       "      <td>1.00</td>\n",
       "      <td>1.00</td>\n",
       "      <td>2.00</td>\n",
       "      <td>2.00</td>\n",
       "      <td>2.000000</td>\n",
       "      <td>5.00</td>\n",
       "      <td>4.00</td>\n",
       "      <td>0.716402</td>\n",
       "      <td>-0.308759</td>\n",
       "    </tr>\n",
       "    <tr>\n",
       "      <th>11</th>\n",
       "      <td>trip_type</td>\n",
       "      <td>270178.0</td>\n",
       "      <td>1.031905</td>\n",
       "      <td>0.175747</td>\n",
       "      <td>1.00</td>\n",
       "      <td>1.00</td>\n",
       "      <td>1.00</td>\n",
       "      <td>1.00</td>\n",
       "      <td>2.000000</td>\n",
       "      <td>2.00</td>\n",
       "      <td>1.00</td>\n",
       "      <td>5.326953</td>\n",
       "      <td>26.376622</td>\n",
       "    </tr>\n",
       "    <tr>\n",
       "      <th>12</th>\n",
       "      <td>congestion_surcharge</td>\n",
       "      <td>270178.0</td>\n",
       "      <td>0.628883</td>\n",
       "      <td>1.154909</td>\n",
       "      <td>-2.75</td>\n",
       "      <td>0.00</td>\n",
       "      <td>2.75</td>\n",
       "      <td>2.75</td>\n",
       "      <td>2.750000</td>\n",
       "      <td>2.75</td>\n",
       "      <td>5.50</td>\n",
       "      <td>1.291019</td>\n",
       "      <td>-0.330873</td>\n",
       "    </tr>\n",
       "    <tr>\n",
       "      <th>13</th>\n",
       "      <td>trip_duration</td>\n",
       "      <td>486775.0</td>\n",
       "      <td>22.330992</td>\n",
       "      <td>64.490140</td>\n",
       "      <td>0.00</td>\n",
       "      <td>15.00</td>\n",
       "      <td>40.00</td>\n",
       "      <td>51.00</td>\n",
       "      <td>82.716667</td>\n",
       "      <td>1439.65</td>\n",
       "      <td>1439.65</td>\n",
       "      <td>19.395834</td>\n",
       "      <td>404.594618</td>\n",
       "    </tr>\n",
       "  </tbody>\n",
       "</table>\n",
       "</div>"
      ],
      "text/plain": [
       "                 features     count       mean          std     min    50%  \\\n",
       "0               vendor_id  486775.0   1.894976     0.306585    1.00   2.00   \n",
       "1         passenger_count  270178.0   1.242370     0.873598    0.00   1.00   \n",
       "2           trip_distance  486775.0  84.588752  2989.314970    0.00   2.62   \n",
       "3             fare_amount  486775.0  20.061589    15.150890 -300.00  16.83   \n",
       "4                   extra  486775.0   1.231439     1.378140   -5.50   0.50   \n",
       "5                 mta_tax  486775.0   0.267237     0.251112   -0.50   0.50   \n",
       "6              tip_amount  486775.0   1.002696     2.127091   -9.45   0.00   \n",
       "7            tolls_amount  486775.0   0.548409     1.863995    0.00   0.00   \n",
       "8   improvement_surcharge  486775.0   0.298015     0.029783   -0.30   0.30   \n",
       "9            total_amount  486775.0  23.726951    16.488399 -300.80  20.74   \n",
       "10           payment_type  270178.0   1.408390     0.515450    1.00   1.00   \n",
       "11              trip_type  270178.0   1.031905     0.175747    1.00   1.00   \n",
       "12   congestion_surcharge  270178.0   0.628883     1.154909   -2.75   0.00   \n",
       "13          trip_duration  486775.0  22.330992    64.490140    0.00  15.00   \n",
       "\n",
       "      90%    95%        99%        max      range       skew     kurtosis  \n",
       "0    2.00   2.00   2.000000       2.00       1.00  -2.576632     4.639052  \n",
       "1    2.00   2.00   6.000000      48.00      48.00   4.776962    48.412824  \n",
       "2   11.33  15.84  24.150000  314199.07  314199.07  52.645345  3471.074815  \n",
       "3   39.18  49.35  71.000000    2109.00    2409.00   8.274816   808.279319  \n",
       "4    2.75   2.75   5.500000       8.25      13.75   0.728995    -0.354708  \n",
       "5    0.50   0.50   0.500000       3.55       4.05  -0.155918    -1.637715  \n",
       "6    3.01   4.61  10.000000     333.00     342.45  14.232544  1381.615489  \n",
       "7    0.00   6.12   6.550000      43.50      43.50   3.717317    17.632624  \n",
       "8    0.30   0.30   0.300000       0.30       0.60 -16.627310   297.219337  \n",
       "9   44.85  55.73  78.392600    2113.55    2414.35   6.787277   579.523998  \n",
       "10   2.00   2.00   2.000000       5.00       4.00   0.716402    -0.308759  \n",
       "11   1.00   1.00   2.000000       2.00       1.00   5.326953    26.376622  \n",
       "12   2.75   2.75   2.750000       2.75       5.50   1.291019    -0.330873  \n",
       "13  40.00  51.00  82.716667    1439.65    1439.65  19.395834   404.594618  "
      ]
     },
     "execution_count": 102,
     "metadata": {},
     "output_type": "execute_result"
    }
   ],
   "source": [
    "num_statistics = num_data.describe(percentiles=[.90, .95, .99]).T\n",
    "num_statistics['range'] = num_statistics['max'] - num_statistics['min']\n",
    "num_statistics['skew'] = num_data.apply(lambda x: x.skew())\n",
    "num_statistics['kurtosis'] = num_data.apply(lambda x: x.kurtosis())\n",
    "num_statistics = num_statistics.reset_index()\n",
    "num_statistics.rename(columns={'index': 'features'}, inplace=True)\n",
    "num_statistics\n"
   ]
  },
  {
   "cell_type": "code",
   "execution_count": 103,
   "metadata": {},
   "outputs": [
    {
     "data": {
      "text/html": [
       "<div>\n",
       "<style scoped>\n",
       "    .dataframe tbody tr th:only-of-type {\n",
       "        vertical-align: middle;\n",
       "    }\n",
       "\n",
       "    .dataframe tbody tr th {\n",
       "        vertical-align: top;\n",
       "    }\n",
       "\n",
       "    .dataframe thead th {\n",
       "        text-align: right;\n",
       "    }\n",
       "</style>\n",
       "<table border=\"1\" class=\"dataframe\">\n",
       "  <thead>\n",
       "    <tr style=\"text-align: right;\">\n",
       "      <th></th>\n",
       "      <th>vendor_id</th>\n",
       "      <th>passenger_count</th>\n",
       "      <th>trip_distance</th>\n",
       "      <th>fare_amount</th>\n",
       "      <th>extra</th>\n",
       "      <th>mta_tax</th>\n",
       "      <th>tip_amount</th>\n",
       "      <th>tolls_amount</th>\n",
       "      <th>improvement_surcharge</th>\n",
       "      <th>total_amount</th>\n",
       "      <th>payment_type</th>\n",
       "      <th>trip_type</th>\n",
       "      <th>congestion_surcharge</th>\n",
       "      <th>trip_duration</th>\n",
       "    </tr>\n",
       "  </thead>\n",
       "  <tbody>\n",
       "    <tr>\n",
       "      <th>vendor_id</th>\n",
       "      <td>1.000000</td>\n",
       "      <td>0.067824</td>\n",
       "      <td>0.009430</td>\n",
       "      <td>0.149714</td>\n",
       "      <td>0.100049</td>\n",
       "      <td>-0.302993</td>\n",
       "      <td>-0.027114</td>\n",
       "      <td>0.059542</td>\n",
       "      <td>0.044460</td>\n",
       "      <td>0.150606</td>\n",
       "      <td>-0.017707</td>\n",
       "      <td>0.041226</td>\n",
       "      <td>0.016219</td>\n",
       "      <td>0.033749</td>\n",
       "    </tr>\n",
       "    <tr>\n",
       "      <th>passenger_count</th>\n",
       "      <td>0.067824</td>\n",
       "      <td>1.000000</td>\n",
       "      <td>-0.000832</td>\n",
       "      <td>-0.021859</td>\n",
       "      <td>0.002091</td>\n",
       "      <td>-0.009477</td>\n",
       "      <td>0.005364</td>\n",
       "      <td>-0.010083</td>\n",
       "      <td>0.008048</td>\n",
       "      <td>-0.018046</td>\n",
       "      <td>0.020511</td>\n",
       "      <td>0.017448</td>\n",
       "      <td>0.023834</td>\n",
       "      <td>-0.009355</td>\n",
       "    </tr>\n",
       "    <tr>\n",
       "      <th>trip_distance</th>\n",
       "      <td>0.009430</td>\n",
       "      <td>-0.000832</td>\n",
       "      <td>1.000000</td>\n",
       "      <td>0.014292</td>\n",
       "      <td>0.022605</td>\n",
       "      <td>-0.028799</td>\n",
       "      <td>-0.006410</td>\n",
       "      <td>0.005822</td>\n",
       "      <td>0.001833</td>\n",
       "      <td>0.013967</td>\n",
       "      <td>-0.001907</td>\n",
       "      <td>-0.000691</td>\n",
       "      <td>-0.000847</td>\n",
       "      <td>0.005027</td>\n",
       "    </tr>\n",
       "    <tr>\n",
       "      <th>fare_amount</th>\n",
       "      <td>0.149714</td>\n",
       "      <td>-0.021859</td>\n",
       "      <td>0.014292</td>\n",
       "      <td>1.000000</td>\n",
       "      <td>0.277949</td>\n",
       "      <td>-0.351818</td>\n",
       "      <td>-0.001463</td>\n",
       "      <td>0.459527</td>\n",
       "      <td>0.086444</td>\n",
       "      <td>0.984387</td>\n",
       "      <td>-0.194205</td>\n",
       "      <td>0.031464</td>\n",
       "      <td>0.027068</td>\n",
       "      <td>0.193812</td>\n",
       "    </tr>\n",
       "    <tr>\n",
       "      <th>extra</th>\n",
       "      <td>0.100049</td>\n",
       "      <td>0.002091</td>\n",
       "      <td>0.022605</td>\n",
       "      <td>0.277949</td>\n",
       "      <td>1.000000</td>\n",
       "      <td>-0.640313</td>\n",
       "      <td>-0.291539</td>\n",
       "      <td>0.093945</td>\n",
       "      <td>0.066362</td>\n",
       "      <td>0.288663</td>\n",
       "      <td>-0.065438</td>\n",
       "      <td>-0.100041</td>\n",
       "      <td>0.306200</td>\n",
       "      <td>0.009207</td>\n",
       "    </tr>\n",
       "    <tr>\n",
       "      <th>mta_tax</th>\n",
       "      <td>-0.302993</td>\n",
       "      <td>-0.009477</td>\n",
       "      <td>-0.028799</td>\n",
       "      <td>-0.351818</td>\n",
       "      <td>-0.640313</td>\n",
       "      <td>1.000000</td>\n",
       "      <td>0.164562</td>\n",
       "      <td>-0.123426</td>\n",
       "      <td>0.130159</td>\n",
       "      <td>-0.339210</td>\n",
       "      <td>-0.117635</td>\n",
       "      <td>-0.793234</td>\n",
       "      <td>0.091579</td>\n",
       "      <td>-0.007261</td>\n",
       "    </tr>\n",
       "    <tr>\n",
       "      <th>tip_amount</th>\n",
       "      <td>-0.027114</td>\n",
       "      <td>0.005364</td>\n",
       "      <td>-0.006410</td>\n",
       "      <td>-0.001463</td>\n",
       "      <td>-0.291539</td>\n",
       "      <td>0.164562</td>\n",
       "      <td>1.000000</td>\n",
       "      <td>0.001812</td>\n",
       "      <td>0.028142</td>\n",
       "      <td>0.122549</td>\n",
       "      <td>-0.441996</td>\n",
       "      <td>-0.024703</td>\n",
       "      <td>0.290780</td>\n",
       "      <td>0.009478</td>\n",
       "    </tr>\n",
       "    <tr>\n",
       "      <th>tolls_amount</th>\n",
       "      <td>0.059542</td>\n",
       "      <td>-0.010083</td>\n",
       "      <td>0.005822</td>\n",
       "      <td>0.459527</td>\n",
       "      <td>0.093945</td>\n",
       "      <td>-0.123426</td>\n",
       "      <td>0.001812</td>\n",
       "      <td>1.000000</td>\n",
       "      <td>0.010254</td>\n",
       "      <td>0.537724</td>\n",
       "      <td>-0.119382</td>\n",
       "      <td>-0.019184</td>\n",
       "      <td>-0.084347</td>\n",
       "      <td>0.100179</td>\n",
       "    </tr>\n",
       "    <tr>\n",
       "      <th>improvement_surcharge</th>\n",
       "      <td>0.044460</td>\n",
       "      <td>0.008048</td>\n",
       "      <td>0.001833</td>\n",
       "      <td>0.086444</td>\n",
       "      <td>0.066362</td>\n",
       "      <td>0.130159</td>\n",
       "      <td>0.028142</td>\n",
       "      <td>0.010254</td>\n",
       "      <td>1.000000</td>\n",
       "      <td>0.094871</td>\n",
       "      <td>-0.181842</td>\n",
       "      <td>-0.129704</td>\n",
       "      <td>0.048990</td>\n",
       "      <td>0.005152</td>\n",
       "    </tr>\n",
       "    <tr>\n",
       "      <th>total_amount</th>\n",
       "      <td>0.150606</td>\n",
       "      <td>-0.018046</td>\n",
       "      <td>0.013967</td>\n",
       "      <td>0.984387</td>\n",
       "      <td>0.288663</td>\n",
       "      <td>-0.339210</td>\n",
       "      <td>0.122549</td>\n",
       "      <td>0.537724</td>\n",
       "      <td>0.094871</td>\n",
       "      <td>1.000000</td>\n",
       "      <td>-0.264887</td>\n",
       "      <td>0.009860</td>\n",
       "      <td>0.127586</td>\n",
       "      <td>0.191711</td>\n",
       "    </tr>\n",
       "    <tr>\n",
       "      <th>payment_type</th>\n",
       "      <td>-0.017707</td>\n",
       "      <td>0.020511</td>\n",
       "      <td>-0.001907</td>\n",
       "      <td>-0.194205</td>\n",
       "      <td>-0.065438</td>\n",
       "      <td>-0.117635</td>\n",
       "      <td>-0.441996</td>\n",
       "      <td>-0.119382</td>\n",
       "      <td>-0.181842</td>\n",
       "      <td>-0.264887</td>\n",
       "      <td>1.000000</td>\n",
       "      <td>0.030181</td>\n",
       "      <td>-0.168985</td>\n",
       "      <td>-0.030164</td>\n",
       "    </tr>\n",
       "    <tr>\n",
       "      <th>trip_type</th>\n",
       "      <td>0.041226</td>\n",
       "      <td>0.017448</td>\n",
       "      <td>-0.000691</td>\n",
       "      <td>0.031464</td>\n",
       "      <td>-0.100041</td>\n",
       "      <td>-0.793234</td>\n",
       "      <td>-0.024703</td>\n",
       "      <td>-0.019184</td>\n",
       "      <td>-0.129704</td>\n",
       "      <td>0.009860</td>\n",
       "      <td>0.030181</td>\n",
       "      <td>1.000000</td>\n",
       "      <td>-0.083157</td>\n",
       "      <td>-0.007733</td>\n",
       "    </tr>\n",
       "    <tr>\n",
       "      <th>congestion_surcharge</th>\n",
       "      <td>0.016219</td>\n",
       "      <td>0.023834</td>\n",
       "      <td>-0.000847</td>\n",
       "      <td>0.027068</td>\n",
       "      <td>0.306200</td>\n",
       "      <td>0.091579</td>\n",
       "      <td>0.290780</td>\n",
       "      <td>-0.084347</td>\n",
       "      <td>0.048990</td>\n",
       "      <td>0.127586</td>\n",
       "      <td>-0.168985</td>\n",
       "      <td>-0.083157</td>\n",
       "      <td>1.000000</td>\n",
       "      <td>0.004112</td>\n",
       "    </tr>\n",
       "    <tr>\n",
       "      <th>trip_duration</th>\n",
       "      <td>0.033749</td>\n",
       "      <td>-0.009355</td>\n",
       "      <td>0.005027</td>\n",
       "      <td>0.193812</td>\n",
       "      <td>0.009207</td>\n",
       "      <td>-0.007261</td>\n",
       "      <td>0.009478</td>\n",
       "      <td>0.100179</td>\n",
       "      <td>0.005152</td>\n",
       "      <td>0.191711</td>\n",
       "      <td>-0.030164</td>\n",
       "      <td>-0.007733</td>\n",
       "      <td>0.004112</td>\n",
       "      <td>1.000000</td>\n",
       "    </tr>\n",
       "  </tbody>\n",
       "</table>\n",
       "</div>"
      ],
      "text/plain": [
       "                       vendor_id  passenger_count  trip_distance  fare_amount  \\\n",
       "vendor_id               1.000000         0.067824       0.009430     0.149714   \n",
       "passenger_count         0.067824         1.000000      -0.000832    -0.021859   \n",
       "trip_distance           0.009430        -0.000832       1.000000     0.014292   \n",
       "fare_amount             0.149714        -0.021859       0.014292     1.000000   \n",
       "extra                   0.100049         0.002091       0.022605     0.277949   \n",
       "mta_tax                -0.302993        -0.009477      -0.028799    -0.351818   \n",
       "tip_amount             -0.027114         0.005364      -0.006410    -0.001463   \n",
       "tolls_amount            0.059542        -0.010083       0.005822     0.459527   \n",
       "improvement_surcharge   0.044460         0.008048       0.001833     0.086444   \n",
       "total_amount            0.150606        -0.018046       0.013967     0.984387   \n",
       "payment_type           -0.017707         0.020511      -0.001907    -0.194205   \n",
       "trip_type               0.041226         0.017448      -0.000691     0.031464   \n",
       "congestion_surcharge    0.016219         0.023834      -0.000847     0.027068   \n",
       "trip_duration           0.033749        -0.009355       0.005027     0.193812   \n",
       "\n",
       "                          extra   mta_tax  tip_amount  tolls_amount  \\\n",
       "vendor_id              0.100049 -0.302993   -0.027114      0.059542   \n",
       "passenger_count        0.002091 -0.009477    0.005364     -0.010083   \n",
       "trip_distance          0.022605 -0.028799   -0.006410      0.005822   \n",
       "fare_amount            0.277949 -0.351818   -0.001463      0.459527   \n",
       "extra                  1.000000 -0.640313   -0.291539      0.093945   \n",
       "mta_tax               -0.640313  1.000000    0.164562     -0.123426   \n",
       "tip_amount            -0.291539  0.164562    1.000000      0.001812   \n",
       "tolls_amount           0.093945 -0.123426    0.001812      1.000000   \n",
       "improvement_surcharge  0.066362  0.130159    0.028142      0.010254   \n",
       "total_amount           0.288663 -0.339210    0.122549      0.537724   \n",
       "payment_type          -0.065438 -0.117635   -0.441996     -0.119382   \n",
       "trip_type             -0.100041 -0.793234   -0.024703     -0.019184   \n",
       "congestion_surcharge   0.306200  0.091579    0.290780     -0.084347   \n",
       "trip_duration          0.009207 -0.007261    0.009478      0.100179   \n",
       "\n",
       "                       improvement_surcharge  total_amount  payment_type  \\\n",
       "vendor_id                           0.044460      0.150606     -0.017707   \n",
       "passenger_count                     0.008048     -0.018046      0.020511   \n",
       "trip_distance                       0.001833      0.013967     -0.001907   \n",
       "fare_amount                         0.086444      0.984387     -0.194205   \n",
       "extra                               0.066362      0.288663     -0.065438   \n",
       "mta_tax                             0.130159     -0.339210     -0.117635   \n",
       "tip_amount                          0.028142      0.122549     -0.441996   \n",
       "tolls_amount                        0.010254      0.537724     -0.119382   \n",
       "improvement_surcharge               1.000000      0.094871     -0.181842   \n",
       "total_amount                        0.094871      1.000000     -0.264887   \n",
       "payment_type                       -0.181842     -0.264887      1.000000   \n",
       "trip_type                          -0.129704      0.009860      0.030181   \n",
       "congestion_surcharge                0.048990      0.127586     -0.168985   \n",
       "trip_duration                       0.005152      0.191711     -0.030164   \n",
       "\n",
       "                       trip_type  congestion_surcharge  trip_duration  \n",
       "vendor_id               0.041226              0.016219       0.033749  \n",
       "passenger_count         0.017448              0.023834      -0.009355  \n",
       "trip_distance          -0.000691             -0.000847       0.005027  \n",
       "fare_amount             0.031464              0.027068       0.193812  \n",
       "extra                  -0.100041              0.306200       0.009207  \n",
       "mta_tax                -0.793234              0.091579      -0.007261  \n",
       "tip_amount             -0.024703              0.290780       0.009478  \n",
       "tolls_amount           -0.019184             -0.084347       0.100179  \n",
       "improvement_surcharge  -0.129704              0.048990       0.005152  \n",
       "total_amount            0.009860              0.127586       0.191711  \n",
       "payment_type            0.030181             -0.168985      -0.030164  \n",
       "trip_type               1.000000             -0.083157      -0.007733  \n",
       "congestion_surcharge   -0.083157              1.000000       0.004112  \n",
       "trip_duration          -0.007733              0.004112       1.000000  "
      ]
     },
     "execution_count": 103,
     "metadata": {},
     "output_type": "execute_result"
    }
   ],
   "source": [
    "df1_num_correlation =  num_data.corr()\n",
    "df1_num_correlation"
   ]
  },
  {
   "cell_type": "code",
   "execution_count": 104,
   "metadata": {},
   "outputs": [
    {
     "data": {
      "image/png": "[encoded data removed]",
      "text/plain": [
       "<Figure size 1000x700 with 2 Axes>"
      ]
     },
     "metadata": {},
     "output_type": "display_data"
    }
   ],
   "source": [
    "plt.figure(figsize=(10,7))\n",
    "sns.heatmap(df1_num_correlation, annot=True);"
   ]
  },
  {
   "cell_type": "markdown",
   "metadata": {},
   "source": [
    "### 2.6.2. Categorical Statistics"
   ]
  },
  {
   "cell_type": "code",
   "execution_count": 105,
   "metadata": {},
   "outputs": [
    {
     "data": {
      "text/html": [
       "<div>\n",
       "<style scoped>\n",
       "    .dataframe tbody tr th:only-of-type {\n",
       "        vertical-align: middle;\n",
       "    }\n",
       "\n",
       "    .dataframe tbody tr th {\n",
       "        vertical-align: top;\n",
       "    }\n",
       "\n",
       "    .dataframe thead th {\n",
       "        text-align: right;\n",
       "    }\n",
       "</style>\n",
       "<table border=\"1\" class=\"dataframe\">\n",
       "  <thead>\n",
       "    <tr style=\"text-align: right;\">\n",
       "      <th></th>\n",
       "      <th>features</th>\n",
       "      <th>count</th>\n",
       "      <th>unique</th>\n",
       "      <th>top</th>\n",
       "      <th>freq</th>\n",
       "    </tr>\n",
       "  </thead>\n",
       "  <tbody>\n",
       "    <tr>\n",
       "      <th>0</th>\n",
       "      <td>store_and_fwd_flag</td>\n",
       "      <td>270178</td>\n",
       "      <td>2</td>\n",
       "      <td>N</td>\n",
       "      <td>268150</td>\n",
       "    </tr>\n",
       "    <tr>\n",
       "      <th>1</th>\n",
       "      <td>ratecode_id</td>\n",
       "      <td>486775</td>\n",
       "      <td>8</td>\n",
       "      <td>1.0</td>\n",
       "      <td>259857</td>\n",
       "    </tr>\n",
       "    <tr>\n",
       "      <th>2</th>\n",
       "      <td>pick_up_location_id</td>\n",
       "      <td>486775</td>\n",
       "      <td>260</td>\n",
       "      <td>74</td>\n",
       "      <td>45692</td>\n",
       "    </tr>\n",
       "    <tr>\n",
       "      <th>3</th>\n",
       "      <td>drop_off_location_id</td>\n",
       "      <td>486775</td>\n",
       "      <td>261</td>\n",
       "      <td>74</td>\n",
       "      <td>20307</td>\n",
       "    </tr>\n",
       "  </tbody>\n",
       "</table>\n",
       "</div>"
      ],
      "text/plain": [
       "               features   count unique  top    freq\n",
       "0    store_and_fwd_flag  270178      2    N  268150\n",
       "1           ratecode_id  486775      8  1.0  259857\n",
       "2   pick_up_location_id  486775    260   74   45692\n",
       "3  drop_off_location_id  486775    261   74   20307"
      ]
     },
     "execution_count": 105,
     "metadata": {},
     "output_type": "execute_result"
    }
   ],
   "source": [
    "cat_statistics = cat_data.describe().T.reset_index()\n",
    "cat_statistics.rename(columns={'index': 'features'}, inplace=True)\n",
    "cat_statistics"
   ]
  },
  {
   "cell_type": "code",
   "execution_count": 106,
   "metadata": {},
   "outputs": [],
   "source": [
    "# list of categorical attributes to calculate Cramer's V correlation\n",
    "cat_data_list = cat_data.columns.tolist()\n",
    "\n",
    "corr_dict = {}\n",
    "\n",
    "for i in range(len(cat_data_list)):\n",
    "    corr_list = []\n",
    "    for j in range(len(cat_data_list)):\n",
    "        ref = cat_data_list[i]\n",
    "        feat = cat_data_list[j]\n",
    "        \n",
    "        corr = cramer_v(cat_data[ref], cat_data[feat])\n",
    "        corr_list.append(corr)\n",
    "        \n",
    "    corr_dict[ref] = corr_list"
   ]
  },
  {
   "cell_type": "code",
   "execution_count": 107,
   "metadata": {},
   "outputs": [
    {
     "data": {
      "text/html": [
       "<div>\n",
       "<style scoped>\n",
       "    .dataframe tbody tr th:only-of-type {\n",
       "        vertical-align: middle;\n",
       "    }\n",
       "\n",
       "    .dataframe tbody tr th {\n",
       "        vertical-align: top;\n",
       "    }\n",
       "\n",
       "    .dataframe thead th {\n",
       "        text-align: right;\n",
       "    }\n",
       "</style>\n",
       "<table border=\"1\" class=\"dataframe\">\n",
       "  <thead>\n",
       "    <tr style=\"text-align: right;\">\n",
       "      <th></th>\n",
       "      <th>store_and_fwd_flag</th>\n",
       "      <th>ratecode_id</th>\n",
       "      <th>pick_up_location_id</th>\n",
       "      <th>drop_off_location_id</th>\n",
       "    </tr>\n",
       "  </thead>\n",
       "  <tbody>\n",
       "    <tr>\n",
       "      <th>store_and_fwd_flag</th>\n",
       "      <td>0.999753</td>\n",
       "      <td>0.008632</td>\n",
       "      <td>0.081425</td>\n",
       "      <td>0.108473</td>\n",
       "    </tr>\n",
       "    <tr>\n",
       "      <th>ratecode_id</th>\n",
       "      <td>0.008632</td>\n",
       "      <td>1.000007</td>\n",
       "      <td>0.263544</td>\n",
       "      <td>0.279031</td>\n",
       "    </tr>\n",
       "    <tr>\n",
       "      <th>pick_up_location_id</th>\n",
       "      <td>0.081425</td>\n",
       "      <td>0.263544</td>\n",
       "      <td>1.000266</td>\n",
       "      <td>0.147290</td>\n",
       "    </tr>\n",
       "    <tr>\n",
       "      <th>drop_off_location_id</th>\n",
       "      <td>0.108473</td>\n",
       "      <td>0.279031</td>\n",
       "      <td>0.147290</td>\n",
       "      <td>1.000267</td>\n",
       "    </tr>\n",
       "  </tbody>\n",
       "</table>\n",
       "</div>"
      ],
      "text/plain": [
       "                      store_and_fwd_flag  ratecode_id  pick_up_location_id  \\\n",
       "store_and_fwd_flag              0.999753     0.008632             0.081425   \n",
       "ratecode_id                     0.008632     1.000007             0.263544   \n",
       "pick_up_location_id             0.081425     0.263544             1.000266   \n",
       "drop_off_location_id            0.108473     0.279031             0.147290   \n",
       "\n",
       "                      drop_off_location_id  \n",
       "store_and_fwd_flag                0.108473  \n",
       "ratecode_id                       0.279031  \n",
       "pick_up_location_id               0.147290  \n",
       "drop_off_location_id              1.000267  "
      ]
     },
     "execution_count": 107,
     "metadata": {},
     "output_type": "execute_result"
    }
   ],
   "source": [
    "df1__cat_correlation = pd.DataFrame(corr_dict)\n",
    "df1__cat_correlation.set_index(df1__cat_correlation.columns, inplace=True)\n",
    "df1__cat_correlation"
   ]
  },
  {
   "cell_type": "code",
   "execution_count": 108,
   "metadata": {},
   "outputs": [
    {
     "data": {
      "image/png": "[encoded data removed]",
      "text/plain": [
       "<Figure size 1000x700 with 2 Axes>"
      ]
     },
     "metadata": {},
     "output_type": "display_data"
    }
   ],
   "source": [
    "plt.figure(figsize=(10,7))\n",
    "sns.heatmap(df1__cat_correlation, annot=True);"
   ]
  },
  {
   "cell_type": "code",
   "execution_count": 109,
   "metadata": {},
   "outputs": [],
   "source": [
    "pickle.dump(df1, open(\"../data/processed/df1.pkl\", \"wb\"))"
   ]
  },
  {
   "cell_type": "markdown",
   "metadata": {},
   "source": [
    "# 3. Data Filtering"
   ]
  },
  {
   "cell_type": "code",
   "execution_count": 114,
   "metadata": {},
   "outputs": [],
   "source": [
    "df2 = pickle.load(open(\"../data/processed/df1.pkl\", \"rb\"))"
   ]
  },
  {
   "cell_type": "markdown",
   "metadata": {},
   "source": [
    "## 3.1. Rows Filtering"
   ]
  },
  {
   "cell_type": "markdown",
   "metadata": {},
   "source": [
    "Since we have the 99% amount of the data lower than 82 min, we will filter the rows lower than this duration"
   ]
  },
  {
   "cell_type": "code",
   "execution_count": 115,
   "metadata": {},
   "outputs": [
    {
     "data": {
      "text/plain": [
       "count    486775.000000\n",
       "mean         22.330992\n",
       "std          64.490140\n",
       "min           0.000000\n",
       "50%          15.000000\n",
       "90%          40.000000\n",
       "95%          51.000000\n",
       "99%          82.716667\n",
       "max        1439.650000\n",
       "Name: trip_duration, dtype: float64"
      ]
     },
     "execution_count": 115,
     "metadata": {},
     "output_type": "execute_result"
    }
   ],
   "source": [
    "df2['trip_duration'].describe(percentiles=[.90, .95, .99])"
   ]
  },
  {
   "cell_type": "code",
   "execution_count": 116,
   "metadata": {},
   "outputs": [],
   "source": [
    "# trip_duration\n",
    "df2 = df2[(df2['trip_duration'] > 1 ) & (df2['trip_duration'] < 82)]\n",
    "\n",
    "## passenger_count\n",
    "#df2 = df2[df2['passenger_count'] > 0]\n",
    "#\n",
    "## trip_distance\n",
    "#df2 = df2[df2['trip_distance'] < 100000]\n",
    "\n",
    "# \n"
   ]
  },
  {
   "cell_type": "markdown",
   "metadata": {},
   "source": [
    "## 3.2. Columns Filtering"
   ]
  },
  {
   "cell_type": "code",
   "execution_count": 117,
   "metadata": {},
   "outputs": [],
   "source": [
    "categorical = ['pick_up_location_id', 'drop_off_location_id']\n",
    "numerical = ['trip_distance']"
   ]
  },
  {
   "cell_type": "code",
   "execution_count": 118,
   "metadata": {},
   "outputs": [
    {
     "data": {
      "text/plain": [
       "pick_up_location_id     object\n",
       "drop_off_location_id    object\n",
       "dtype: object"
      ]
     },
     "execution_count": 118,
     "metadata": {},
     "output_type": "execute_result"
    }
   ],
   "source": [
    "df2[categorical].dtypes"
   ]
  },
  {
   "cell_type": "code",
   "execution_count": 119,
   "metadata": {},
   "outputs": [],
   "source": [
    "df2[categorical] = df2[categorical].astype(str)"
   ]
  },
  {
   "cell_type": "code",
   "execution_count": 120,
   "metadata": {},
   "outputs": [
    {
     "data": {
      "text/plain": [
       "trip_distance    float64\n",
       "dtype: object"
      ]
     },
     "execution_count": 120,
     "metadata": {},
     "output_type": "execute_result"
    }
   ],
   "source": [
    "df2[numerical].dtypes"
   ]
  },
  {
   "cell_type": "code",
   "execution_count": 121,
   "metadata": {},
   "outputs": [],
   "source": [
    "pickle.dump(df2, open(\"../data/processed/df2.pkl\", \"wb\"))"
   ]
  },
  {
   "cell_type": "markdown",
   "metadata": {},
   "source": [
    "# 4. Feature Engineering"
   ]
  },
  {
   "cell_type": "code",
   "execution_count": 122,
   "metadata": {},
   "outputs": [],
   "source": [
    "df3 = pickle.load(open(\"../data/processed/df2.pkl\", \"rb\"))"
   ]
  },
  {
   "cell_type": "code",
   "execution_count": 123,
   "metadata": {},
   "outputs": [],
   "source": [
    "pickle.dump(df3, open(\"../data/processed/df3.pkl\", \"wb\"))"
   ]
  },
  {
   "cell_type": "markdown",
   "metadata": {},
   "source": [
    "# 5. Exploratory Data Analysis"
   ]
  },
  {
   "cell_type": "code",
   "execution_count": 124,
   "metadata": {},
   "outputs": [],
   "source": [
    "df4 = pickle.load(open(\"../data/processed/df3.pkl\", \"rb\"))"
   ]
  },
  {
   "cell_type": "code",
   "execution_count": 125,
   "metadata": {},
   "outputs": [],
   "source": [
    "pickle.dump(df4, open(\"../data/processed/df4.pkl\", \"wb\"))"
   ]
  },
  {
   "cell_type": "markdown",
   "metadata": {},
   "source": [
    "# 6. Data Preparation"
   ]
  },
  {
   "cell_type": "code",
   "execution_count": 126,
   "metadata": {},
   "outputs": [],
   "source": [
    "df5 = pickle.load(open(\"../data/processed/df4.pkl\", \"rb\"))"
   ]
  },
  {
   "cell_type": "code",
   "execution_count": 127,
   "metadata": {},
   "outputs": [],
   "source": [
    "pickle.dump(df5, open(\"../data/processed/df5.pkl\", \"wb\"))"
   ]
  },
  {
   "cell_type": "markdown",
   "metadata": {},
   "source": [
    "# 7. Feature Selection"
   ]
  },
  {
   "cell_type": "code",
   "execution_count": 128,
   "metadata": {},
   "outputs": [],
   "source": [
    "df6 = pickle.load(open(\"../data/processed/df5.pkl\", \"rb\"))"
   ]
  },
  {
   "cell_type": "code",
   "execution_count": 129,
   "metadata": {},
   "outputs": [
    {
     "data": {
      "text/plain": [
       "[{'pick_up_location_id': '43',\n",
       "  'drop_off_location_id': '151',\n",
       "  'trip_distance': 1.01},\n",
       " {'pick_up_location_id': '166',\n",
       "  'drop_off_location_id': '239',\n",
       "  'trip_distance': 2.53},\n",
       " {'pick_up_location_id': '41',\n",
       "  'drop_off_location_id': '42',\n",
       "  'trip_distance': 1.12},\n",
       " {'pick_up_location_id': '168',\n",
       "  'drop_off_location_id': '75',\n",
       "  'trip_distance': 1.99},\n",
       " {'pick_up_location_id': '75',\n",
       "  'drop_off_location_id': '75',\n",
       "  'trip_distance': 0.45}]"
      ]
     },
     "execution_count": 129,
     "metadata": {},
     "output_type": "execute_result"
    }
   ],
   "source": [
    "train_dicts = df6[categorical + numerical].to_dict(orient=\"records\")\n",
    "train_dicts[:5]"
   ]
  },
  {
   "cell_type": "code",
   "execution_count": 130,
   "metadata": {},
   "outputs": [],
   "source": [
    "dv = DictVectorizer()\n",
    "\n",
    "X_train = dv.fit_transform(train_dicts)\n",
    "y_train = df6['trip_duration'].values"
   ]
  },
  {
   "cell_type": "markdown",
   "metadata": {},
   "source": [
    "# 8. Machine Learning Models"
   ]
  },
  {
   "cell_type": "markdown",
   "metadata": {},
   "source": [
    "## 8.1. Linear Regression"
   ]
  },
  {
   "cell_type": "code",
   "execution_count": 133,
   "metadata": {},
   "outputs": [
    {
     "data": {
      "text/plain": [
       "12.131868402701459"
      ]
     },
     "execution_count": 133,
     "metadata": {},
     "output_type": "execute_result"
    }
   ],
   "source": [
    "# model definition\n",
    "lr = LinearRegression()\n",
    "\n",
    "# model training\n",
    "lr.fit(X_train, y_train)\n",
    "\n",
    "# model predictions\n",
    "lr_preds = lr.predict(X_train)\n",
    "\n",
    "# model evaluation\n",
    "lr_error = mean_squared_error(y_train, lr_preds, squared=False)\n",
    "\n",
    "lr_error"
   ]
  },
  {
   "cell_type": "code",
   "execution_count": 134,
   "metadata": {},
   "outputs": [
    {
     "data": {
      "text/plain": [
       "<matplotlib.legend.Legend at 0x7fd98139e410>"
      ]
     },
     "execution_count": 134,
     "metadata": {},
     "output_type": "execute_result"
    },
    {
     "data": {
      "image/png": "[encoded data removed]",
      "text/plain": [
       "<Figure size 640x480 with 1 Axes>"
      ]
     },
     "metadata": {},
     "output_type": "display_data"
    }
   ],
   "source": [
    "sns.distplot(lr_preds, label=\"predictions\")\n",
    "sns.distplot(y_train, label=\"actual\")\n",
    "plt.legend()"
   ]
  },
  {
   "cell_type": "markdown",
   "metadata": {},
   "source": [
    "## 8.3. Lasso"
   ]
  },
  {
   "cell_type": "code",
   "execution_count": 135,
   "metadata": {},
   "outputs": [
    {
     "data": {
      "text/plain": [
       "12.03696669426479"
      ]
     },
     "execution_count": 135,
     "metadata": {},
     "output_type": "execute_result"
    }
   ],
   "source": [
    "# model definition (Lasso)\n",
    "lasso_model = Lasso(alpha=0.001)\n",
    "\n",
    "# model fit\n",
    "lasso_model.fit(X_train, y_train)\n",
    "\n",
    "# model predictions\n",
    "y_pred_lasso = lasso_model.predict(X_train)\n",
    "\n",
    "# model evaluation\n",
    "lasso_error = mean_squared_error(y_train, y_pred_lasso, squared=False)\n",
    "lasso_error"
   ]
  },
  {
   "cell_type": "code",
   "execution_count": 139,
   "metadata": {},
   "outputs": [
    {
     "data": {
      "text/plain": [
       "<matplotlib.legend.Legend at 0x7fd979a71060>"
      ]
     },
     "execution_count": 139,
     "metadata": {},
     "output_type": "execute_result"
    },
    {
     "data": {
      "image/png": "[encoded data removed]",
      "text/plain": [
       "<Figure size 640x480 with 1 Axes>"
      ]
     },
     "metadata": {},
     "output_type": "display_data"
    }
   ],
   "source": [
    "sns.distplot(y_pred_lasso, label=\"predictions\")\n",
    "sns.distplot(y_train, label=\"actual\")\n",
    "plt.legend()"
   ]
  },
  {
   "cell_type": "markdown",
   "metadata": {},
   "source": [
    "## 8.4. Ridge"
   ]
  },
  {
   "cell_type": "code",
   "execution_count": 137,
   "metadata": {},
   "outputs": [
    {
     "data": {
      "text/plain": [
       "12.828995506826992"
      ]
     },
     "execution_count": 137,
     "metadata": {},
     "output_type": "execute_result"
    }
   ],
   "source": [
    "# model definition (Ridge)\n",
    "ridge_model = Ridge()\n",
    "\n",
    "# model fit\n",
    "ridge_model.fit(X_train, y_train)\n",
    "\n",
    "# model predictions\n",
    "y_pred_ridge = ridge_model.predict(X_train)\n",
    "\n",
    "# model evaluation\n",
    "ridge_error = mean_squared_error(y_train, y_pred_ridge, squared=False)\n",
    "ridge_error"
   ]
  },
  {
   "cell_type": "code",
   "execution_count": 138,
   "metadata": {},
   "outputs": [
    {
     "data": {
      "text/plain": [
       "<matplotlib.legend.Legend at 0x7fd97a9125c0>"
      ]
     },
     "execution_count": 138,
     "metadata": {},
     "output_type": "execute_result"
    },
    {
     "data": {
      "image/png": "[encoded data removed]",
      "text/plain": [
       "<Figure size 640x480 with 1 Axes>"
      ]
     },
     "metadata": {},
     "output_type": "display_data"
    }
   ],
   "source": [
    "sns.distplot(y_pred_ridge, label=\"predictions\")\n",
    "sns.distplot(y_train, label=\"actual\")\n",
    "plt.legend()"
   ]
  },
  {
   "cell_type": "code",
   "execution_count": null,
   "metadata": {},
   "outputs": [],
   "source": []
  }
 ],
 "metadata": {
  "kernelspec": {
   "display_name": "RideDurationPrediction",
   "language": "python",
   "name": "ridedurationprediction"
  },
  "language_info": {
   "codemirror_mode": {
    "name": "ipython",
    "version": 3
   },
   "file_extension": ".py",
   "mimetype": "text/x-python",
   "name": "python",
   "nbconvert_exporter": "python",
   "pygments_lexer": "ipython3",
   "version": "3.10.6"
  },
  "orig_nbformat": 4
 },
 "nbformat": 4,
 "nbformat_minor": 2
}
